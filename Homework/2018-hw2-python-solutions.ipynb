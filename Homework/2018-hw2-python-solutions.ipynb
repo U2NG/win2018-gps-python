{
 "cells": [
  {
   "cell_type": "markdown",
   "metadata": {},
   "source": [
    "**Instructions:**\n",
    "\n",
    "1. Rename the notebook (click on the title at the top of the page next to 'jupyter') to your A number, name and HW2Py:\n",
    "   example (replace spaces with underscores -- this seems to work better): \"Reid-Otsuji-A1234567-HW2Py\"\n",
    "2. Add your code or markdown answers under the question. \n",
    "3. `File>Download as` a 'notebook' NOTE: Jupyter notebook is constantly autosaving to whatever directory you have opened it in.\n",
    "4. Upload to TritonED in Assignment 2 upload. "
   ]
  },
  {
   "cell_type": "markdown",
   "metadata": {},
   "source": [
    "# Working with lists"
   ]
  },
  {
   "cell_type": "markdown",
   "metadata": {},
   "source": [
    "Create a `list` called `me` that contains the following elements in this order:\n",
    "\n",
    "* Your name\n",
    "* Your favorite color\n",
    "* You sudent ID number\n",
    "\n",
    "Perform the following on this list:\n",
    "\n",
    "## Loop through the list and print out the items. "
   ]
  },
  {
   "cell_type": "code",
   "execution_count": 6,
   "metadata": {
    "collapsed": true
   },
   "outputs": [],
   "source": [
    "me = [\"reid otsuji\", 'blue', 'a23456789']"
   ]
  },
  {
   "cell_type": "code",
   "execution_count": 4,
   "metadata": {
    "collapsed": true
   },
   "outputs": [],
   "source": []
  },
  {
   "cell_type": "markdown",
   "metadata": {},
   "source": [
    "## Print just your name and student ID. You can use a slicing operator or a loop. "
   ]
  },
  {
   "cell_type": "code",
   "execution_count": 5,
   "metadata": {
    "collapsed": false
   },
   "outputs": [
    {
     "data": {
      "text/plain": [
       "['reid otsuji', 'a23456789']"
      ]
     },
     "execution_count": 5,
     "metadata": {},
     "output_type": "execute_result"
    }
   ],
   "source": [
    "me[0::2]"
   ]
  },
  {
   "cell_type": "markdown",
   "metadata": {},
   "source": [
    "## Using the join method, join the list into a string separated by a comma "
   ]
  },
  {
   "cell_type": "code",
   "execution_count": 9,
   "metadata": {
    "collapsed": false
   },
   "outputs": [
    {
     "name": "stdout",
     "output_type": "stream",
     "text": [
      "join the list: reid otsuji,blue,a23456789\n"
     ]
    }
   ],
   "source": [
    "print('join the list:', ','.join(me))"
   ]
  },
  {
   "cell_type": "markdown",
   "metadata": {},
   "source": [
    "# Writing a loop to generate a list of letters.\n",
    "\n",
    "### Use a for-loop to convert the string \"global\" into a list of letters:\n",
    "[\"g\", \"l\", \"o\", \"b\", \"a\", \"l\"]\n",
    "\n",
    "Hint: You can create an empty list like this:"
   ]
  },
  {
   "cell_type": "code",
   "execution_count": 2,
   "metadata": {
    "collapsed": true
   },
   "outputs": [],
   "source": [
    "my_list = []"
   ]
  },
  {
   "cell_type": "code",
   "execution_count": 3,
   "metadata": {
    "collapsed": false
   },
   "outputs": [
    {
     "name": "stdout",
     "output_type": "stream",
     "text": [
      "['g', 'l', 'o', 'b', 'a', 'l']\n"
     ]
    }
   ],
   "source": [
    "my_list = []\n",
    "for char in \"global\":\n",
    "    my_list.append(char)\n",
    "print(my_list)"
   ]
  },
  {
   "cell_type": "markdown",
   "metadata": {},
   "source": [
    "# Write a program that reads in the regional gapminder data sets and plots the average GDP per capita for each region over time in a single chart.\n"
   ]
  },
  {
   "cell_type": "code",
   "execution_count": 11,
   "metadata": {
    "collapsed": true
   },
   "outputs": [],
   "source": [
    "%matplotlib inline\n",
    "import matplotlib.pyplot as plt\n",
    "import glob\n",
    "import pandas"
   ]
  },
  {
   "cell_type": "markdown",
   "metadata": {},
   "source": [
    "Fill in the blanks for the following code.  Remember you want to:\n",
    "\n",
    "1. Loop thru a list of the contintent gdp files in the data/ directory\n",
    "2. Read each of those files in as data.frames\n",
    "3. Get the mean for each\n",
    "4. Plot each \n",
    "5. Add a legend for each. Notice we are doing this by using a list of the countries in alpha order\n",
    "\n",
    "Note: Your graph should look like the one below. "
   ]
  },
  {
   "cell_type": "code",
   "execution_count": 35,
   "metadata": {
    "collapsed": false,
    "scrolled": true
   },
   "outputs": [
    {
     "data": {
      "image/png": "[encoded data removed]",
      "text/plain": [
       "<matplotlib.figure.Figure at 0x10d7cffd0>"
      ]
     },
     "metadata": {},
     "output_type": "display_data"
    }
   ],
   "source": [
    "for filename in glob.____('data/______.csv'):\n",
    "    df = pandas._______(filename)\n",
    "    cont = df.____()\n",
    "    cont.____()\n",
    "    plt.____(rotation=90)\n",
    "    plt.____(['Africa', 'Asia', 'Americas', 'Europe', 'Oceania'])\n",
    "    plt.style.use('seaborn-muted')"
   ]
  },
  {
   "cell_type": "code",
   "execution_count": 12,
   "metadata": {
    "collapsed": false
   },
   "outputs": [
    {
     "data": {
      "image/png": "[encoded data removed]",
      "text/plain": [
       "<matplotlib.figure.Figure at 0x11118bf98>"
      ]
     },
     "metadata": {},
     "output_type": "display_data"
    }
   ],
   "source": [
    "for filename in glob.glob('data/gapminder_gdp*.csv'):\n",
    "    df = pandas.read_csv(filename)\n",
    "    df.mean().plot()\n",
    "    plt.xticks(rotation=90)\n",
    "    plt.legend(['africa','asia','americas','europe','oceania'])\n",
    "    plt.style.use('ggplot')"
   ]
  },
  {
   "cell_type": "markdown",
   "metadata": {},
   "source": [
    "# Encapsulating Data Analysis\n",
    "\n",
    "Run the following code. This code reads in the gapminder file for asia and then subsets the Japan data into a new dataframe called `japan`. Remember: Use the correct file path for the .csv saved on your computer.\n"
   ]
  },
  {
   "cell_type": "code",
   "execution_count": 4,
   "metadata": {
    "collapsed": false
   },
   "outputs": [
    {
     "data": {
      "text/plain": [
       "gdpPercap_1982    19384.10571\n",
       "gdpPercap_1987    22375.94189\n",
       "gdpPercap_1992    26824.89511\n",
       "gdpPercap_1997    28816.58499\n",
       "gdpPercap_2002    28604.59190\n",
       "gdpPercap_2007    31656.06806\n",
       "Name: Japan, dtype: float64"
      ]
     },
     "execution_count": 4,
     "metadata": {},
     "output_type": "execute_result"
    }
   ],
   "source": [
    "import pandas\n",
    "\n",
    "df = pandas.read_csv('data/gapminder_gdp_asia.csv', index_col=0) #note: use the file path for your saved data location\n",
    "japan = df.ix['Japan']\n",
    "japan.tail(6)"
   ]
  },
  {
   "cell_type": "markdown",
   "metadata": {},
   "source": [
    "Using the japan data frame we created above, the below code is one way to get the average for Japan in the 80s.  We create a year base (198) using floor division and then add the strings 2 and 7 to that to index for the 1982 and 1987 years (the two years we have in the 80s). We add those together and then divide by 2 to get the average. If the below code doesn't make sense, run the parts individually to see how it works. "
   ]
  },
  {
   "cell_type": "code",
   "execution_count": 20,
   "metadata": {
    "collapsed": false
   },
   "outputs": [
    {
     "name": "stdout",
     "output_type": "stream",
     "text": [
      "20880.0238\n"
     ]
    }
   ],
   "source": [
    "year = 1983 \n",
    "gdp_decade = 'gdpPercap_' + str(year // 10) #`//` is Floor division gives us 198\n",
    "avg = (japan.ix[gdp_decade + '2'] + japan.ix[gdp_decade + '7']) / 2 # we want to add 1982 and 1987 and divide by 2 \n",
    "print(avg)"
   ]
  },
  {
   "cell_type": "markdown",
   "metadata": {},
   "source": [
    "Given the code above, abstract the code into a function named `avg_gdp_in_decade` that will take a `country`, `continent` and `year` as parameters and return the average. We should be able to call your function like this: \n",
    "\n",
    "```{python}\n",
    "avg_gdp_in_decade('Algeria','Africa', 1970) #1970 for the 70s, 1980 would be 80s\n",
    "```\n",
    "\n",
    "I started the function for you below:"
   ]
  },
  {
   "cell_type": "code",
   "execution_count": 26,
   "metadata": {
    "collapsed": true
   },
   "outputs": [],
   "source": [
    "def avg_dgp_in_decade(country, continent, year):\n",
    "    #read the data in\n",
    "    #create a new data.frame for the country\n",
    "    #get the decade base three numbers 198 for 80s\n",
    "    #subset and calculate avg\n",
    "    #return average\n",
    "    pass # pass tells python to pass on the function, remove it when you want to run your function"
   ]
  }
 ],
 "metadata": {
  "anaconda-cloud": {},
  "kernelspec": {
   "display_name": "Python 3",
   "language": "python",
   "name": "python3"
  },
  "language_info": {
   "codemirror_mode": {
    "name": "ipython",
    "version": 3
   },
   "file_extension": ".py",
   "mimetype": "text/x-python",
   "name": "python",
   "nbconvert_exporter": "python",
   "pygments_lexer": "ipython3",
   "version": "3.6.0"
  }
 },
 "nbformat": 4,
 "nbformat_minor": 2
}
